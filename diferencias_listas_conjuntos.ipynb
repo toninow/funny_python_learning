{
 "cells": [
  {
   "cell_type": "markdown",
   "metadata": {},
   "source": [
    "# Diferencias en Funciones"
   ]
  },
  {
   "cell_type": "markdown",
   "metadata": {},
   "source": [
    "# LISTAS"
   ]
  },
  {
   "cell_type": "markdown",
   "metadata": {},
   "source": [
    "* Lista: el orden de los elementos está bien definido, los duplicados son posibles, cualquier objeto puede participar"
   ]
  },
  {
   "cell_type": "markdown",
   "metadata": {},
   "source": [
    "* Lista: Las listas pueden contener cualquier objeto"
   ]
  },
  {
   "cell_type": "code",
   "execution_count": 4,
   "metadata": {},
   "outputs": [
    {
     "name": "stdout",
     "output_type": "stream",
     "text": [
      "[1, 2, 8, 'copito', '2018', 2018, ['a', 'b', 3], 'system']\n"
     ]
    }
   ],
   "source": [
    "a = [1, 2, 8, \"copito\", \"2018\", 2018, [\"a\", \"b\", 3], \"system\"]\n",
    "print(a)"
   ]
  },
  {
   "cell_type": "markdown",
   "metadata": {},
   "source": [
    "* Lista: Puedes anidar tantas listas como quieras"
   ]
  },
  {
   "cell_type": "code",
   "execution_count": 5,
   "metadata": {},
   "outputs": [
    {
     "name": "stdout",
     "output_type": "stream",
     "text": [
      "['a', 'b', 'c', ['d1', 'd2', 'd3'], 'e', 'f']\n"
     ]
    }
   ],
   "source": [
    "a = [\"a\", \"b\", \"c\", [\"d1\", \"d2\", \"d3\"], \"e\", \"f\"]\n",
    "print(a)"
   ]
  },
  {
   "cell_type": "markdown",
   "metadata": {},
   "source": [
    "* Lista: Los elementos de lista se acceden con un índice"
   ]
  },
  {
   "cell_type": "code",
   "execution_count": 6,
   "metadata": {},
   "outputs": [
    {
     "name": "stdout",
     "output_type": "stream",
     "text": [
      "copito\n"
     ]
    }
   ],
   "source": [
    "a = [\"copito\", \"system\", \"conejo\"]\n",
    "\n",
    "# a[0] para devolver el primer elemento\n",
    "# a[1] para el segundo\n",
    "print(a[0])"
   ]
  },
  {
   "cell_type": "markdown",
   "metadata": {},
   "source": [
    "* Lista: Las listas pueden ser modificadas"
   ]
  },
  {
   "cell_type": "code",
   "execution_count": 8,
   "metadata": {},
   "outputs": [
    {
     "name": "stdout",
     "output_type": "stream",
     "text": [
      "[1, 5, 1]\n"
     ]
    }
   ],
   "source": [
    "a = [1 , 1, 1]\n",
    "a[1] = 5\n",
    "print(a)"
   ]
  },
  {
   "cell_type": "code",
   "execution_count": 9,
   "metadata": {},
   "outputs": [
    {
     "name": "stdout",
     "output_type": "stream",
     "text": [
      "['copito', 'system', 5]\n"
     ]
    }
   ],
   "source": [
    "a = 5\n",
    "mi_lista = [\"copito\", \"system\", a]\n",
    "a += 5\n",
    "\n",
    "print(mi_lista)"
   ]
  },
  {
   "cell_type": "markdown",
   "metadata": {},
   "source": [
    "* Conjunto: el orden de los elementos es desconocido, los elementos son únicos, solo se pueden insertar objetos que se puedan cambiar (tuplas y números, pero no listas).\n",
    "\n",
    "* Un conjunto es una colección que no está ordenada ni indexada, y no permite duplicados. En Python, los conjuntos se escriben con llaves."
   ]
  },
  {
   "cell_type": "markdown",
   "metadata": {},
   "source": [
    "***Tener en cuenta que, a partir de las versiones recientes de Python 3, los conjuntos (y los dictos) conservan el orden de inserción.***"
   ]
  },
  {
   "cell_type": "markdown",
   "metadata": {},
   "source": [
    "# CONJUNTOS"
   ]
  },
  {
   "cell_type": "markdown",
   "metadata": {},
   "source": [
    "* Para crear un conjunto especificamos sus elementos entre llaves:\n"
   ]
  },
  {
   "cell_type": "code",
   "execution_count": 2,
   "metadata": {},
   "outputs": [
    {
     "name": "stdout",
     "output_type": "stream",
     "text": [
      "{1, 2, 3, 4}\n"
     ]
    }
   ],
   "source": [
    "s = {1, 2, 3, 4}\n",
    "print(s)"
   ]
  },
  {
   "cell_type": "markdown",
   "metadata": {},
   "source": [
    "* Al igual que otras colecciones, sus miembros pueden ser de diversos tipos:"
   ]
  },
  {
   "cell_type": "code",
   "execution_count": 3,
   "metadata": {
    "scrolled": true
   },
   "outputs": [
    {
     "name": "stdout",
     "output_type": "stream",
     "text": [
      "{False, True, (1, 2), 3.14, None, 'Hola mundo'}\n"
     ]
    }
   ],
   "source": [
    "s = {True, 3.14, None, False, \"Hola mundo\", (1, 2)}\n",
    "print(s)"
   ]
  },
  {
   "cell_type": "markdown",
   "metadata": {},
   "source": [
    "* Un conjunto no puede incluir objetos mutables como listas, diccionarios, e incluso otros conjuntos."
   ]
  },
  {
   "cell_type": "code",
   "execution_count": 6,
   "metadata": {
    "scrolled": true
   },
   "outputs": [],
   "source": [
    "# s = {[1, 2]}"
   ]
  },
  {
   "cell_type": "markdown",
   "metadata": {},
   "source": [
    "# Diferencias En Rendimiento"
   ]
  },
  {
   "cell_type": "markdown",
   "metadata": {},
   "source": [
    " * Las listas más largas son más lentas"
   ]
  },
  {
   "cell_type": "markdown",
   "metadata": {},
   "source": [
    "* La longitud de la lista no afecta esta consulta."
   ]
  }
 ],
 "metadata": {
  "kernelspec": {
   "display_name": "Python 3",
   "language": "python",
   "name": "python3"
  },
  "language_info": {
   "codemirror_mode": {
    "name": "ipython",
    "version": 3
   },
   "file_extension": ".py",
   "mimetype": "text/x-python",
   "name": "python",
   "nbconvert_exporter": "python",
   "pygments_lexer": "ipython3",
   "version": "3.7.6"
  }
 },
 "nbformat": 4,
 "nbformat_minor": 4
}
