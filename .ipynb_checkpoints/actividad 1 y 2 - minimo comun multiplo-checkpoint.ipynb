{
 "cells": [
  {
   "cell_type": "code",
   "execution_count": 18,
   "metadata": {},
   "outputs": [],
   "source": [
    "def maximoComunDivisor(primernumero,  segundonumero):\n",
    "    numero1 = max(primernumero,  segundonumero)\n",
    "    numero2 = min(primernumero,  segundonumero)\n",
    "    while numero2!=0:\n",
    "        maximoComunDivisor = numero2\n",
    "        numero2 = numero1%numero2\n",
    "        numero1 = maximoComunDivisor\n",
    "    return maximoComunDivisor"
   ]
  },
  {
   "cell_type": "code",
   "execution_count": 19,
   "metadata": {},
   "outputs": [],
   "source": [
    "def minimoComunMultiplo(primernumero, segundonumero):\n",
    "    numero1 = max(primernumero, segundonumero)\n",
    "    numero2 = min(primernumero, segundonumero)\n",
    "    minimoComunMultiplo = (numero1 / maximoComunDivisor(numero1, numero2)) * numero2\n",
    "    return minimoComunMultiplo\n",
    "\n",
    "\n"
   ]
  },
  {
   "cell_type": "code",
   "execution_count": null,
   "metadata": {},
   "outputs": [
    {
     "name": "stdout",
     "output_type": "stream",
     "text": [
      "Ingresa el primer numero\n",
      "2\n",
      "Ingresa el segundo numero\n",
      "3\n",
      "El Minimo Comun Multiplo del 2 y 3 es: 6.0\n"
     ]
    }
   ],
   "source": [
    "# Pedimos los datos al usuario\n",
    "\n",
    "primernumero = int(input(\"Ingresa el primer numero\\n\"))\n",
    "segundonumero = int(input(\"Ingresa el segundo numero\\n\"))\n",
    "# Mostramos el resultado en pantalla\n",
    "print(\"El Minimo Comun Multiplo del \"+str(primernumero)+\" y \"+str(segundonumero)+\" es: \"+str(minimoComunMultiplo(num1, segundonumero)))\n",
    "input()"
   ]
  },
  {
   "cell_type": "code",
   "execution_count": null,
   "metadata": {},
   "outputs": [],
   "source": []
  },
  {
   "cell_type": "code",
   "execution_count": null,
   "metadata": {},
   "outputs": [],
   "source": []
  }
 ],
 "metadata": {
  "kernelspec": {
   "display_name": "Python 3",
   "language": "python",
   "name": "python3"
  },
  "language_info": {
   "codemirror_mode": {
    "name": "ipython",
    "version": 3
   },
   "file_extension": ".py",
   "mimetype": "text/x-python",
   "name": "python",
   "nbconvert_exporter": "python",
   "pygments_lexer": "ipython3",
   "version": "3.7.6"
  }
 },
 "nbformat": 4,
 "nbformat_minor": 4
}
