{
 "cells": [
  {
   "cell_type": "code",
   "execution_count": 1,
   "metadata": {},
   "outputs": [
    {
     "name": "stdout",
     "output_type": "stream",
     "text": [
      "Por favor escoge una puerta ( 1.. 2.. o 3..)\n",
      "2\n",
      "Estas seguro de seguir con la misma puerta? (si/no.. quiero cambiar de puerta)\n",
      "no\n",
      "Ganaste una Cabra!!!.\n"
     ]
    }
   ],
   "source": [
    "from random import choice, shuffle\n",
    "\n",
    "# Definimos las puertas y los premios\n",
    "doors = [1, 2, 3]\n",
    "prizes = ['Tesla', 'zonk1', 'zonk2']\n",
    "shuffle(prizes)\n",
    "doors = list(zip(doors, prizes))\n",
    "\n",
    "# Preguntamos al concursante que escoja una puerta\n",
    "user_choice = int(input(\"Por favor escoge una puerta ( 1.. 2.. o 3..)\\n\"))\n",
    "\n",
    "# aqui no esta el Tesla\n",
    "reveal_options = [i for i in doors if i[0] != user_choice and i[1] != 'car']\n",
    "revealed = choice(reveal_options)\n",
    "\n",
    "# Preguntamos al concursante si quiere cambiar o quedarse con su elección inicial\n",
    "user_switch = input('Estas seguro de seguir con la misma puerta? (si/no.. quiero cambiar de puerta)\\n')\n",
    "if user_switch == 'si':\n",
    "    user_choice = next(i[0] for i in doors if i[0] != user_choice and i != revealed)\n",
    "\n",
    "# Mostramos el premio\n",
    "car = next(i[0] for i in doors if i[1] == 'Tesla')\n",
    "if car == user_choice:\n",
    "    print('Ganaste un Tesla!!!')\n",
    "else:\n",
    "    print('Ganaste una Cabra!!!.')"
   ]
  },
  {
   "cell_type": "code",
   "execution_count": null,
   "metadata": {},
   "outputs": [],
   "source": []
  },
  {
   "cell_type": "code",
   "execution_count": null,
   "metadata": {},
   "outputs": [],
   "source": []
  }
 ],
 "metadata": {
  "kernelspec": {
   "display_name": "Python 3",
   "language": "python",
   "name": "python3"
  },
  "language_info": {
   "codemirror_mode": {
    "name": "ipython",
    "version": 3
   },
   "file_extension": ".py",
   "mimetype": "text/x-python",
   "name": "python",
   "nbconvert_exporter": "python",
   "pygments_lexer": "ipython3",
   "version": "3.7.6"
  }
 },
 "nbformat": 4,
 "nbformat_minor": 4
}
