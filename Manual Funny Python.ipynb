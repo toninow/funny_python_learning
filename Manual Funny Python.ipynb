{
 "cells": [
  {
   "cell_type": "code",
   "execution_count": 1,
   "metadata": {},
   "outputs": [],
   "source": [
    "# Titulo: Manual Funny Python"
   ]
  },
  {
   "cell_type": "code",
   "execution_count": 2,
   "metadata": {},
   "outputs": [],
   "source": [
    "#Autor: Antonio Benalcazar"
   ]
  },
  {
   "cell_type": "code",
   "execution_count": 3,
   "metadata": {},
   "outputs": [],
   "source": [
    "#Fecha: 2020/06/23"
   ]
  },
  {
   "cell_type": "markdown",
   "metadata": {},
   "source": [
    "***MANUAL FUNNY PYTHON***"
   ]
  },
  {
   "cell_type": "markdown",
   "metadata": {},
   "source": [
    "***1. Comentar Línea***"
   ]
  },
  {
   "cell_type": "markdown",
   "metadata": {},
   "source": [
    "Para comentar una linea en python se usa el signo de # (signo almohadilla o numeral segun la zona del mundo que habites)\n",
    "\n",
    "Los comentarios pueden ser de dos tipos: de una sola línea o multi-línea: "
   ]
  },
  {
   "cell_type": "code",
   "execution_count": 4,
   "metadata": {},
   "outputs": [],
   "source": [
    "# Comentar una sola línea\n",
    "\n",
    "una_variable = 6"
   ]
  },
  {
   "cell_type": "markdown",
   "metadata": {},
   "source": [
    "Para comentar varias líneas se utiliza tres comillas dobles tanto al inicio como para al final"
   ]
  },
  {
   "cell_type": "code",
   "execution_count": 5,
   "metadata": {},
   "outputs": [],
   "source": [
    "\"\"\"Y este es un comentario\n",
    "de varias líneas\"\"\"\n",
    "\n",
    "otra_variable = 69"
   ]
  },
  {
   "cell_type": "markdown",
   "metadata": {},
   "source": [
    "Para comentar en la misma línea del código debe haber un espacio en blanco y Luego del signo (#) \n",
    "debe ir un solo espacio en blanco."
   ]
  },
  {
   "cell_type": "code",
   "execution_count": 6,
   "metadata": {},
   "outputs": [],
   "source": [
    "a = 15 # Edad de María"
   ]
  },
  {
   "cell_type": "markdown",
   "metadata": {},
   "source": [
    "***2. Tipos de datos simples***"
   ]
  },
  {
   "cell_type": "markdown",
   "metadata": {},
   "source": [
    "***Numéricos o number***: Secuencia de dígitos los cuales pueden incluir el (‑) para negativos y el (.) para decimales que\n",
    "representan números."
   ]
  },
  {
   "cell_type": "markdown",
   "metadata": {},
   "source": [
    "    Ejemplo. 26, ‑3, 2.021."
   ]
  },
  {
   "cell_type": "markdown",
   "metadata": {},
   "source": [
    "***Cadenas o String***: Secuencia de caracteres alfanuméricos que representan texto. Se escriben con comillas simples o dobles"
   ]
  },
  {
   "cell_type": "markdown",
   "metadata": {},
   "source": [
    "    Ejemplo. ‘Saludos’, “Fallout76”"
   ]
  },
  {
   "cell_type": "markdown",
   "metadata": {},
   "source": [
    "***Booleanos o boolean***: Contienen dos elementos True y False que representan los valores\n",
    "lógicos verdadero y falso."
   ]
  },
  {
   "cell_type": "markdown",
   "metadata": {},
   "source": [
    "    Estos datos son inmutables, es decir, su valor es constante y no puede cambiar."
   ]
  },
  {
   "cell_type": "markdown",
   "metadata": {},
   "source": [
    "***3. Tipos de datos Compuestos (CONTENEDORES)***"
   ]
  },
  {
   "cell_type": "markdown",
   "metadata": {},
   "source": [
    "***Listas o lists***: Son secuencias ordenadas de elementos de distintos tipos.\n",
    "estos se representan con corchetes y los elementos se separan por comas"
   ]
  },
  {
   "cell_type": "markdown",
   "metadata": {},
   "source": [
    "    Ejemplo. [1, “dos”, [3, 4], True]."
   ]
  },
  {
   "cell_type": "markdown",
   "metadata": {},
   "source": [
    "***Tuplas o tuples***. Recopilación de Elementos que representan secuencias ordenadas de objetos de distintos tipos. A diferencia de las listas son inmutables, es decir, que no cambian durante la ejecución. Se representan mediante paréntesis y los elementos se separan por comas.\n"
   ]
  },
  {
   "cell_type": "markdown",
   "metadata": {},
   "source": [
    "    Ejemplo. (1, ‘dos’, 3)\n"
   ]
  },
  {
   "cell_type": "markdown",
   "metadata": {},
   "source": [
    "***Diccionarios o dictionaries***: Recolección de elementos con una clave asociada. Se representan con llaves,\n",
    "los pares separados por comas y cada par contiene una clave y un objeto asociado separados por dos\n",
    "puntos.\n"
   ]
  },
  {
   "cell_type": "markdown",
   "metadata": {},
   "source": [
    "    Ejemplo. {‘pi’:3.1416, ‘e’:2.718}."
   ]
  },
  {
   "cell_type": "markdown",
   "metadata": {},
   "source": [
    "***3. Dato Type()***"
   ]
  },
  {
   "cell_type": "markdown",
   "metadata": {},
   "source": [
    "La clase a la que pertenece un dato se obtiene con el comando type()"
   ]
  },
  {
   "cell_type": "code",
   "execution_count": 10,
   "metadata": {},
   "outputs": [
    {
     "data": {
      "text/plain": [
       "type"
      ]
     },
     "execution_count": 10,
     "metadata": {},
     "output_type": "execute_result"
    }
   ],
   "source": [
    "type(int)"
   ]
  },
  {
   "cell_type": "code",
   "execution_count": null,
   "metadata": {},
   "outputs": [],
   "source": []
  }
 ],
 "metadata": {
  "kernelspec": {
   "display_name": "Python 3",
   "language": "python",
   "name": "python3"
  },
  "language_info": {
   "codemirror_mode": {
    "name": "ipython",
    "version": 3
   },
   "file_extension": ".py",
   "mimetype": "text/x-python",
   "name": "python",
   "nbconvert_exporter": "python",
   "pygments_lexer": "ipython3",
   "version": "3.7.6"
  }
 },
 "nbformat": 4,
 "nbformat_minor": 4
}
