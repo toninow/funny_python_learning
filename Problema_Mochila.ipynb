{
 "cells": [
  {
   "cell_type": "code",
   "execution_count": 15,
   "metadata": {},
   "outputs": [
    {
     "name": "stdout",
     "output_type": "stream",
     "text": [
      "350\n"
     ]
    }
   ],
   "source": [
    "#Devuelve el valor máximo que puede guardar la bolsa\n",
    "def miMochila(W, wt, val, n):\n",
    "   # condiciones\n",
    "   if n == 0 or W == 0 :\n",
    "      return 0\n",
    "   # Si el peso es mayor que la capacidad no le incluye\n",
    "   if (wt[n-1] > W):\n",
    "      return miMochila(W, wt, val, n-1)\n",
    "   # verificamos si el elemento esta incluido o no \n",
    "   else:\n",
    "      return max(val[n-1] + miMochila(W-wt[n-1], wt, val, n-1),\n",
    "         miMochila(W, wt, val, n-1))\n",
    "# Probamos la funcion anterior\n",
    "val = [50,100,150,200] #valores\n",
    "wt = [8,16,32,40] #pesoTotal\n",
    "W = 64 #peso\n",
    "n = len(val) #nuevaVariable \n",
    "print (miMochila(W, wt, val, n))"
   ]
  },
  {
   "cell_type": "code",
   "execution_count": null,
   "metadata": {},
   "outputs": [],
   "source": []
  }
 ],
 "metadata": {
  "kernelspec": {
   "display_name": "Python 3",
   "language": "python",
   "name": "python3"
  },
  "language_info": {
   "codemirror_mode": {
    "name": "ipython",
    "version": 3
   },
   "file_extension": ".py",
   "mimetype": "text/x-python",
   "name": "python",
   "nbconvert_exporter": "python",
   "pygments_lexer": "ipython3",
   "version": "3.7.6"
  }
 },
 "nbformat": 4,
 "nbformat_minor": 4
}
